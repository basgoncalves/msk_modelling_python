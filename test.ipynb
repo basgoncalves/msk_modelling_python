{
 "cells": [
  {
   "cell_type": "code",
   "execution_count": 2,
   "metadata": {},
   "outputs": [
    {
     "ename": "AttributeError",
     "evalue": "module 'bops' has no attribute 'butter_bandpass'",
     "output_type": "error",
     "traceback": [
      "\u001b[1;31m---------------------------------------------------------------------------\u001b[0m",
      "\u001b[1;31mAttributeError\u001b[0m                            Traceback (most recent call last)",
      "Cell \u001b[1;32mIn[2], line 31\u001b[0m\n\u001b[0;32m     28\u001b[0m order \u001b[39m=\u001b[39m \u001b[39m4\u001b[39m  \u001b[39m# filter order\u001b[39;00m\n\u001b[0;32m     30\u001b[0m emg_data \u001b[39m=\u001b[39m pd\u001b[39m.\u001b[39mread_csv(emgpath)\n\u001b[1;32m---> 31\u001b[0m emg_data_filtered \u001b[39m=\u001b[39m bops\u001b[39m.\u001b[39;49mbutter_bandpass(emg_data, lowcut, highcut, fs, order)\n\u001b[0;32m     32\u001b[0m emg_data_filtered \u001b[39m=\u001b[39m bops\u001b[39m.\u001b[39mbutter_lowpass(emg_data, lowcut, fs, order)\n\u001b[0;32m     33\u001b[0m emg_filename \u001b[39m=\u001b[39m os\u001b[39m.\u001b[39mpath\u001b[39m.\u001b[39mjoin(data_dir,\u001b[39m'\u001b[39m\u001b[39memg_filtered.csv\u001b[39m\u001b[39m'\u001b[39m)\n",
      "\u001b[1;31mAttributeError\u001b[0m: module 'bops' has no attribute 'butter_bandpass'"
     ]
    }
   ],
   "source": [
    "import os\n",
    "import bops\n",
    "import pandas as pd\n",
    "\n",
    "data_dir = r'C:\\Git\\Uni_teaching\\BD2II - Biomechanical Motion Analysis in Practice (2023S)\\lab3-EMG'\n",
    "\n",
    "bops.add_each_c3d_to_own_folder(data_dir)\n",
    "\n",
    "trial_list = [f.name for f in os.scandir(data_dir) if f.is_dir()]\n",
    "trial_list = [s for s in trial_list if 'static' not in s]\n",
    "\n",
    "emg_labels = ['Voltage.EMG01_r_gastro', 'Voltage.EMG02_r_soleus',\n",
    " 'Voltage.EMG03_r_rect_fem', 'Voltage.EMG04_r_tfl',\n",
    " 'Voltage.EMG05_r_semimemb', 'Voltage.EMG06_l_gastro',\n",
    " 'Voltage.EMG07_l_soleus', 'Voltage.EMG08_l_rect_fem', 'Voltage.EMG09_l_tfl',\n",
    " 'Voltage.EMG10_l_semimemb']\n",
    "\n",
    "trial = trial_list[0]\n",
    "trial_folder = os.path.join(data_dir, trial)\n",
    "c3dpath = os.path.join(trial_folder, 'c3dfile.c3d')\n",
    "emgpath = os.path.join(trial_folder, 'emg.csv')\n",
    "# bops.c3d_osim_export(c3dpath)\n",
    "# bops.c3d_emg_export(c3dpath,emg_labels)\n",
    "\n",
    "fs = 1000.0  # sample rate, Hz\n",
    "lowcut = 10.0  # lower cut-off frequency, Hz\n",
    "highcut = 50.0  # upper cut-off frequency, Hz\n",
    "order = 4  # filter order\n",
    "\n",
    "emg_data = pd.read_csv(emgpath)\n",
    "emg_data_filtered = bops.butter_bandpass(emg_data, lowcut, highcut, fs, order)\n",
    "emg_data_filtered = bops.butter_lowpass(emg_data, lowcut, fs, order)\n",
    "emg_filename = os.path.join(data_dir,'emg_filtered.csv')\n",
    "emg_data_filtered.to_csv(emg_filename)\n"
   ]
  }
 ],
 "metadata": {
  "kernelspec": {
   "display_name": "Python 3",
   "language": "python",
   "name": "python3"
  },
  "language_info": {
   "codemirror_mode": {
    "name": "ipython",
    "version": 3
   },
   "file_extension": ".py",
   "mimetype": "text/x-python",
   "name": "python",
   "nbconvert_exporter": "python",
   "pygments_lexer": "ipython3",
   "version": "3.8.0"
  },
  "orig_nbformat": 4,
  "vscode": {
   "interpreter": {
    "hash": "6d644aacad239065b370893fefb29285686498ecbbc8cafad5ff61f44754b4d2"
   }
  }
 },
 "nbformat": 4,
 "nbformat_minor": 2
}
