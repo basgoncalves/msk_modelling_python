{
 "cells": [
  {
   "cell_type": "code",
   "execution_count": 8,
   "metadata": {},
   "outputs": [
    {
     "name": "stdout",
     "output_type": "stream",
     "text": [
      "=============================================\n",
      "Evaluation C3Dserver\n",
      "Version:  1.203\n",
      "User:  Demonstration Copy\n",
      "Organization:  Motion Lab Systems, Inc.\n",
      "=============================================\n"
     ]
    },
    {
     "data": {
      "text/plain": [
       "True"
      ]
     },
     "execution_count": 8,
     "metadata": {},
     "output_type": "execute_result"
    }
   ],
   "source": [
    "import pyc3dserver as c3d\n",
    "import os\n",
    "\n",
    "dir_path = os.getcwd()\n",
    "maindir =  os.path.join(dir_path,'ExampleData\\s001\\session1')\n",
    "\n",
    "c3dfilepath = os.path.join(maindir,'sprint_1.c3d')\n",
    "\n",
    "itf = c3d.c3dserver()\n",
    "\n",
    "# Open a C3D file\n",
    "c3d.open_c3d(itf, c3dfilepath)\n"
   ]
  },
  {
   "cell_type": "code",
   "execution_count": 7,
   "metadata": {},
   "outputs": [
    {
     "name": "stdout",
     "output_type": "stream",
     "text": [
      "c:\\Git\\msk_modelling_python\\ExampleData\\s001\\session1\\sprint_1.c3d\n"
     ]
    }
   ],
   "source": [
    "print(c3dfilepath)"
   ]
  }
 ],
 "metadata": {
  "kernelspec": {
   "display_name": "Python 3",
   "language": "python",
   "name": "python3"
  },
  "language_info": {
   "codemirror_mode": {
    "name": "ipython",
    "version": 3
   },
   "file_extension": ".py",
   "mimetype": "text/x-python",
   "name": "python",
   "nbconvert_exporter": "python",
   "pygments_lexer": "ipython3",
   "version": "3.8.0"
  },
  "orig_nbformat": 4,
  "vscode": {
   "interpreter": {
    "hash": "6d644aacad239065b370893fefb29285686498ecbbc8cafad5ff61f44754b4d2"
   }
  }
 },
 "nbformat": 4,
 "nbformat_minor": 2
}
