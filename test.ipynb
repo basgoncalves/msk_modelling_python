{
 "cells": [
  {
   "cell_type": "code",
   "execution_count": 19,
   "metadata": {},
   "outputs": [
    {
     "ename": "FileExistsError",
     "evalue": "[WinError 183] Cannot create a file when that file already exists: 'c:\\\\Git\\\\msk_modelling_python\\\\ExampleData\\\\s001\\\\session1\\\\sprint_1'",
     "output_type": "error",
     "traceback": [
      "\u001b[1;31m---------------------------------------------------------------------------\u001b[0m",
      "\u001b[1;31mFileExistsError\u001b[0m                           Traceback (most recent call last)",
      "Cell \u001b[1;32mIn[19], line 22\u001b[0m\n\u001b[0;32m     18\u001b[0m         dst \u001b[39m=\u001b[39m os\u001b[39m.\u001b[39mpath\u001b[39m.\u001b[39mjoin(dst_folder,file)\n\u001b[0;32m     19\u001b[0m         shutil\u001b[39m.\u001b[39mcopy(src, dst)\n\u001b[1;32m---> 22\u001b[0m add_each_c3d_to_own_folder(maindir)\n",
      "Cell \u001b[1;32mIn[19], line 17\u001b[0m, in \u001b[0;36madd_each_c3d_to_own_folder\u001b[1;34m(session_path)\u001b[0m\n\u001b[0;32m     15\u001b[0m src \u001b[39m=\u001b[39m os\u001b[39m.\u001b[39mpath\u001b[39m.\u001b[39mjoin(session_path, file)\n\u001b[0;32m     16\u001b[0m dst_folder \u001b[39m=\u001b[39m os\u001b[39m.\u001b[39mpath\u001b[39m.\u001b[39mjoin(session_path, fname)\n\u001b[1;32m---> 17\u001b[0m os\u001b[39m.\u001b[39;49mmkdir(dst_folder)\n\u001b[0;32m     18\u001b[0m dst \u001b[39m=\u001b[39m os\u001b[39m.\u001b[39mpath\u001b[39m.\u001b[39mjoin(dst_folder,file)\n\u001b[0;32m     19\u001b[0m shutil\u001b[39m.\u001b[39mcopy(src, dst)\n",
      "\u001b[1;31mFileExistsError\u001b[0m: [WinError 183] Cannot create a file when that file already exists: 'c:\\\\Git\\\\msk_modelling_python\\\\ExampleData\\\\s001\\\\session1\\\\sprint_1'"
     ]
    }
   ],
   "source": [
    "import shutil\n",
    "import string\n",
    "import pyc3dserver as c3d\n",
    "import os\n",
    "\n",
    "dir_path = os.getcwd()\n",
    "maindir =  os.path.join(dir_path,'ExampleData\\s001\\session1')\n",
    "c3dfilepath = os.path.join(maindir,'sprint_1.c3d')\n",
    "    \n",
    "def add_each_c3d_to_own_folder(session_path):\n",
    "    \n",
    "    c3d_files = [file for file in os.listdir(session_path) if file.endswith(\".c3d\")]\n",
    "    for file in c3d_files:\n",
    "        fname = file.replace('.c3d', '')\n",
    "        src = os.path.join(session_path, file)\n",
    "        dst_folder = os.path.join(session_path, fname)\n",
    "        \n",
    "        # create a new folder \n",
    "        try: os.mkdir(dst_folder)\n",
    "        except: 'nothing'\n",
    "        \n",
    "        # copy file\n",
    "        dst = os.path.join(dst_folder, 'c3dfile.c3d')\n",
    "        shutil.copy(src, dst)\n",
    "\n",
    "\n",
    "add_each_c3d_to_own_folder(maindir)"
   ]
  },
  {
   "cell_type": "code",
   "execution_count": 23,
   "metadata": {},
   "outputs": [],
   "source": [
    "\n",
    "session_path = maindir\n",
    "\n"
   ]
  }
 ],
 "metadata": {
  "kernelspec": {
   "display_name": "Python 3",
   "language": "python",
   "name": "python3"
  },
  "language_info": {
   "codemirror_mode": {
    "name": "ipython",
    "version": 3
   },
   "file_extension": ".py",
   "mimetype": "text/x-python",
   "name": "python",
   "nbconvert_exporter": "python",
   "pygments_lexer": "ipython3",
   "version": "3.8.0"
  },
  "orig_nbformat": 4,
  "vscode": {
   "interpreter": {
    "hash": "6d644aacad239065b370893fefb29285686498ecbbc8cafad5ff61f44754b4d2"
   }
  }
 },
 "nbformat": 4,
 "nbformat_minor": 2
}
