{
 "cells": [
  {
   "cell_type": "code",
   "execution_count": 1,
   "metadata": {},
   "outputs": [],
   "source": [
    "import os\n",
    "import bops\n",
    "import pandas as pd\n",
    "import numpy as np\n",
    "import pyc3dserver as c3d\n"
   ]
  },
  {
   "cell_type": "code",
   "execution_count": 42,
   "metadata": {},
   "outputs": [
    {
     "name": "stdout",
     "output_type": "stream",
     "text": [
      "could not open Geometry\n",
      "could not open Slicer scene\n"
     ]
    }
   ],
   "source": [
    "def c3d_emg_export(c3dfilepath,emg_labels='all'):   \n",
    "    # Get the COM object of C3Dserver (https://pypi.org/project/pyc3dserver/)\n",
    "    itf = c3d.c3dserver(msg=False)\n",
    "    \n",
    "    # Open a C3D file\n",
    "    c3d.open_c3d(itf, c3dfilepath)\n",
    "    dict_analogs = []\n",
    "    # For the information of all analogs(excluding or including forces/moments)\n",
    "    dict_analogs = c3d.get_dict_analogs(itf)\n",
    "    labels = dict_analogs['LABELS']\n",
    "\n",
    "    if emg_labels == 'all':\n",
    "        emg_labels = labels\n",
    "    \n",
    "    # Initialize the final dataframe\n",
    "    analog_df = pd.DataFrame()\n",
    "    \n",
    "    # Store each of the vectors in dict_analogs as a columns in the final dataframe\n",
    "    for iLab in labels:\n",
    "        if iLab in emg_labels:\n",
    "            iData = dict_analogs['DATA'][iLab] \n",
    "            analog_df[iLab] = iData.tolist()\n",
    "    maindir = os.path.dirname(c3dfilepath)\n",
    "    \n",
    "    # Sava data in parent directory\n",
    "    emg_filename = os.path.join(maindir,'emg.csv')\n",
    "    # analog_df.to_csv(emg_filename, index=False)\n",
    "    return analog_df\n",
    "\n",
    "######### edit this part only ########\n",
    "session_dir = r'C:\\Git\\research_data\\TorsionToolAllModels\\simulations\\Test\\pre' # directory of the folder containing the c3d files\n",
    "\n",
    "trial_list = [f.name for f in os.scandir(session_dir) if f.is_dir()]\n",
    "trial_list = [s for s in trial_list if 'static' not in s]\n",
    "analog_df  = dict()\n",
    "\n",
    "for trial in trial_list:\n",
    "    trial_folder = os.path.join(session_dir, trial)\n",
    "    c3dpath = os.path.join(trial_folder, 'c3dfile.c3d')\n",
    "    try:\n",
    "        emg_data = bops.get_c3d_data()\n",
    "        analog_df[trial] = c3d_emg_export(c3dpath)\n",
    "    except:\n",
    "        print('could not open ' + trial)\n"
   ]
  },
  {
   "cell_type": "code",
   "execution_count": 56,
   "metadata": {},
   "outputs": [
    {
     "name": "stdout",
     "output_type": "stream",
     "text": [
      "C:\\Git\\research_data\\TorsionToolAllModels\\simulations\\Test\\pre\\dynamic04b\\c3dfile.c3d\n"
     ]
    }
   ],
   "source": [
    "\n",
    "print(c3dpath)\n",
    "for key in analog_df.keys():\n",
    "    a = 2\n"
   ]
  },
  {
   "cell_type": "code",
   "execution_count": 5,
   "metadata": {},
   "outputs": [
    {
     "name": "stdout",
     "output_type": "stream",
     "text": [
      "<class 'pandas.core.frame.DataFrame'>\n",
      "      Voltage.RLicht  Voltage.LLicht\n",
      "0           0.001945        0.009079\n",
      "1          -0.001717        0.020103\n",
      "2           0.023842        0.003548\n",
      "3          -0.007477       -0.024681\n",
      "4          -0.034409        0.026779\n",
      "...              ...             ...\n",
      "4159        0.003002       -0.003383\n",
      "4160       -0.004044       -0.010845\n",
      "4161       -0.006161       -0.008803\n",
      "4162       -0.004427       -0.008926\n",
      "4163       -0.004425       -0.009079\n",
      "\n",
      "[4164 rows x 2 columns]\n",
      "None\n"
     ]
    }
   ],
   "source": [
    "c3dpath = r'C:\\Git\\research_data\\TorsionToolAllModels\\simulations\\Test\\pre\\dynamic04b\\c3dfile.c3d'\n",
    "c3d_dict = dict()\n",
    "# Get the COM object of C3Dserver (https://pypi.org/project/pyc3dserver/)\n",
    "itf = c3d.c3dserver(msg=False)\n",
    "c3d.open_c3d(itf, c3dpath)\n",
    "\n",
    "\n",
    "c3d_dict['analog_rate'] = c3d.get_analog_fps(itf)\n",
    "c3d_dict['video_rate'] = c3d.get_video_fps(itf)\n",
    "c3d_dict['analog_data'] = bops.get_analog_data(c3dpath)\n",
    "marker_names = c3d.get_marker_names(itf)\n",
    "c3d_dict['marker_data'] = c3d.get_marker_data(itf,marker_names)\n",
    "\n",
    "print(type(c3d_dict['analog_data']))\n",
    "print(c3d_dict['analog_data'])\n",
    "print(c3d_dict['marker_data'])"
   ]
  },
  {
   "cell_type": "code",
   "execution_count": 10,
   "metadata": {},
   "outputs": [
    {
     "name": "stdout",
     "output_type": "stream",
     "text": [
      "dict_keys(['test', 'test_list', 0, '0'])\n",
      "{'test': 'test', 'test_list': [1, 3, 4, 5, 6, 7], 0: [1, 4, 5, 6], '0': ['1', '4', '5', '6']}\n"
     ]
    }
   ],
   "source": [
    "analog_df  = dict()\n",
    "analog_df['test'] = 'test'\n",
    "analog_df['test_list'] = [1,3,4,5,6,7]\n",
    "analog_df[0] = [1,4,5,6]\n",
    "analog_df['0'] = ['1','4','5','6']\n",
    "\n",
    "print(analog_df.keys())\n",
    "print(analog_df)"
   ]
  }
 ],
 "metadata": {
  "kernelspec": {
   "display_name": "Python 3",
   "language": "python",
   "name": "python3"
  },
  "language_info": {
   "codemirror_mode": {
    "name": "ipython",
    "version": 3
   },
   "file_extension": ".py",
   "mimetype": "text/x-python",
   "name": "python",
   "nbconvert_exporter": "python",
   "pygments_lexer": "ipython3",
   "version": "3.8.0"
  },
  "orig_nbformat": 4,
  "vscode": {
   "interpreter": {
    "hash": "6d644aacad239065b370893fefb29285686498ecbbc8cafad5ff61f44754b4d2"
   }
  }
 },
 "nbformat": 4,
 "nbformat_minor": 2
}
