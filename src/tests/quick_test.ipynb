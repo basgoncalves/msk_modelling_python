{
 "cells": [
  {
   "cell_type": "markdown",
   "metadata": {},
   "source": [
    "# Imports"
   ]
  },
  {
   "cell_type": "code",
   "execution_count": null,
   "metadata": {},
   "outputs": [],
   "source": [
    "import os\n",
    "import json\n",
    "import time\n",
    "import pandas as pd\n",
    "import numpy as np\n",
    "import matplotlib.pyplot as plt\n",
    "import msk_modelling_python as msk\n",
    "import matplotlib.pyplot as plt\n",
    "parent_dir = os.path.dirname(os.getcwd())\n",
    "start_time = time.time()\n",
    "################\n",
    "\n",
    "import vtk\n"
   ]
  },
  {
   "cell_type": "markdown",
   "metadata": {},
   "source": [
    "## Test functions"
   ]
  },
  {
   "cell_type": "code",
   "execution_count": 7,
   "metadata": {},
   "outputs": [],
   "source": [
    "\n",
    "def read_vtp_file(filename):\n",
    "    \"\"\"\n",
    "    Reads a VTK PolyData file (.vtp) and returns a vtkPolyData object.\n",
    "    \"\"\"\n",
    "    reader = vtk.vtkXMLPolyDataReader()\n",
    "    reader.SetFileName(filename)\n",
    "    reader.Update()\n",
    "    return reader.GetOutput()\n",
    "\n",
    "def visualise_vtp(vtp_file):\n",
    "    \"\"\"\n",
    "    Visualises a vtkPolyData object.\n",
    "    \"\"\"\n",
    "    mapper = vtk.vtkPolyDataMapper()\n",
    "    mapper.SetInputData(vtp_file)\n",
    "    actor = vtk.vtkActor()\n",
    "    actor.SetMapper(mapper)\n",
    "    renderer = vtk.vtkRenderer()\n",
    "    renderer.AddActor(actor)\n",
    "    renderer.SetBackground(0.1, 0.2, 0.4)\n",
    "    render_window = vtk.vtkRenderWindow()\n",
    "    render_window.AddRenderer(renderer)\n",
    "    render_window_interactor = vtk.vtkRenderWindowInteractor()\n",
    "    render_window_interactor.SetRenderWindow(render_window)\n",
    "    render_window.Render()\n",
    "    render_window_interactor.Start()\n"
   ]
  },
  {
   "cell_type": "code",
   "execution_count": null,
   "metadata": {},
   "outputs": [],
   "source": []
  },
  {
   "cell_type": "code",
   "execution_count": null,
   "metadata": {},
   "outputs": [],
   "source": [
    "file_path = r'C:\\Git\\research_data\\models\\Gerometry_bones\\femur\\femur.vtp'\n",
    "vtp_file = read_vtp_file(file_path)\n",
    "visualise_vtp(vtp_file)"
   ]
  },
  {
   "cell_type": "markdown",
   "metadata": {},
   "source": [
    "# End test"
   ]
  },
  {
   "cell_type": "code",
   "execution_count": 4,
   "metadata": {},
   "outputs": [
    {
     "name": "stdout",
     "output_type": "stream",
     "text": [
      "--- 3451.231470108032 seconds ---\n"
     ]
    }
   ],
   "source": [
    "################\n",
    "print(f\"--- {time.time() - start_time} seconds ---\")"
   ]
  }
 ],
 "metadata": {
  "kernelspec": {
   "display_name": "msk_modelling",
   "language": "python",
   "name": "python3"
  },
  "language_info": {
   "codemirror_mode": {
    "name": "ipython",
    "version": 3
   },
   "file_extension": ".py",
   "mimetype": "text/x-python",
   "name": "python",
   "nbconvert_exporter": "python",
   "pygments_lexer": "ipython3",
   "version": "3.8.10"
  }
 },
 "nbformat": 4,
 "nbformat_minor": 2
}
