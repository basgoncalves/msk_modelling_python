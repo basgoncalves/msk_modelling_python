{
 "cells": [
  {
   "cell_type": "markdown",
   "metadata": {},
   "source": [
    "# Imports"
   ]
  },
  {
   "cell_type": "code",
   "execution_count": 31,
   "metadata": {},
   "outputs": [],
   "source": [
    "import os\n",
    "import json\n",
    "import time\n",
    "import pandas as pd\n",
    "import numpy as np\n",
    "import opensim as osim\n",
    "import matplotlib.pyplot as plt\n",
    "import msk_modelling_python as msk\n",
    "import matplotlib.pyplot as plt\n",
    "parent_dir = os.path.dirname(os.getcwd())\n",
    "start_time = time.time()\n",
    "################\n",
    "\n",
    "import vtk\n"
   ]
  },
  {
   "cell_type": "markdown",
   "metadata": {},
   "source": [
    "# Test functions"
   ]
  },
  {
   "cell_type": "code",
   "execution_count": 2,
   "metadata": {},
   "outputs": [
    {
     "name": "stdout",
     "output_type": "stream",
     "text": [
      "9\n"
     ]
    }
   ],
   "source": [
    "x = 10\n",
    "x -= 1\n",
    "\n",
    "print(x)"
   ]
  },
  {
   "cell_type": "markdown",
   "metadata": {},
   "source": [
    "# Build knee model"
   ]
  },
  {
   "cell_type": "markdown",
   "metadata": {},
   "source": [
    "## Create functions"
   ]
  },
  {
   "cell_type": "markdown",
   "metadata": {},
   "source": [
    "## Create bodies and joints"
   ]
  },
  {
   "cell_type": "code",
   "execution_count": 32,
   "metadata": {},
   "outputs": [],
   "source": [
    "\n",
    "# Define global model where the leg lives.\n",
    "leg = osim.Model()\n",
    "leg.setUseVisualizer(True)\n",
    "\n",
    "# ---------------------------------------------------------------------------\n",
    "# Create two links, each with a mass of 1 kg, centre of mass at the body's\n",
    "# origin, and moments and products of inertia of zero.\n",
    "# ---------------------------------------------------------------------------\n",
    "\n",
    "length_femur = 0.5\n",
    "length_tibia = 1\n",
    "length_foot = 0.5\n",
    "\n",
    "femur = osim.Body(\"femur\",\n",
    "                    length_femur,\n",
    "                    osim.Vec3(0, 0, 0),\n",
    "                    osim.Inertia(0, 0, 0))\n",
    "tibia = osim.Body(\"tibia\",\n",
    "                   length_tibia,\n",
    "                   osim.Vec3(0, 0, 0),\n",
    "                   osim.Inertia(0, 0, 0))\n",
    "\n",
    "foot = osim.Body(\"foot\",\n",
    "                    length_foot,\n",
    "                    osim.Vec3(0, 0, 0),\n",
    "                    osim.Inertia(0, 0, 0))\n",
    "\n",
    "\n",
    "# ---------------------------------------------------------------------------\n",
    "# Connect the bodies with pin joints. Assume each body is 1m long.\n",
    "# ---------------------------------------------------------------------------\n",
    "\n",
    "hip = osim.PinJoint(\"hip\",\n",
    "                    leg.getGround(),  # PhysicalFrame\n",
    "                    osim.Vec3(0, 0, 0),\n",
    "                    osim.Vec3(0, 0, 0),\n",
    "                    femur,  # PhysicalFrame\n",
    "                    osim.Vec3(0, length_femur, 0),\n",
    "                    osim.Vec3(0, 0, 0))\n",
    "\n",
    "knee = osim.PinJoint(\"knee\",\n",
    "                     femur,  # PhysicalFrame\n",
    "                     osim.Vec3(0, 0, 0),\n",
    "                     osim.Vec3(0, 0, 0),\n",
    "                     tibia,  # PhysicalFrame\n",
    "                     osim.Vec3(0, length_tibia, 0),\n",
    "                     osim.Vec3(0, 0, 0))\n",
    "\n",
    "ankle = osim.PinJoint(\"ankle\",\n",
    "                        tibia,  # PhysicalFrame\n",
    "                        osim.Vec3(0, 0, 0),\n",
    "                        osim.Vec3(0, 0, 0),\n",
    "                        foot,  # PhysicalFrame\n",
    "                        osim.Vec3(0, 0.5, 0),\n",
    "                        osim.Vec3(0, 0, 0))\n"
   ]
  },
  {
   "cell_type": "markdown",
   "metadata": {},
   "source": [
    "## Create muscles and controller (brain)"
   ]
  },
  {
   "cell_type": "code",
   "execution_count": 33,
   "metadata": {},
   "outputs": [],
   "source": [
    "\n",
    "# ---------------------------------------------------------------------------\n",
    "# Add a muscle that flexes the elbow (actuator for robotics people).\n",
    "# ---------------------------------------------------------------------------\n",
    "quadriceps = osim.Millard2012EquilibriumMuscle(\"quadriceps\",  # Muscle name\n",
    "                                               300.0,  # Max isometric force\n",
    "                                               0.6,  # Optimal fibre length\n",
    "                                               0.55,  # Tendon slack length\n",
    "                                               0.0)  # Pennation angle\n",
    "quadriceps.addNewPathPoint(\"origin\",\n",
    "                           femur,\n",
    "                           osim.Vec3(0, 0.8, 0))\n",
    "\n",
    "quadriceps.addNewPathPoint(\"insertion\",\n",
    "                           tibia,\n",
    "                           osim.Vec3(0, 0.7, 0))\n",
    "\n",
    "hamstrings = osim.Millard2012EquilibriumMuscle(\"hamstrings\",  # Muscle name\n",
    "                                               200.0,  # Max isometric force\n",
    "                                               0.6,  # Optimal fibre length\n",
    "                                               0.55,  # Tendon slack length\n",
    "                                               0.0)  # Pennation angle\n",
    "hamstrings.addNewPathPoint(\"origin\",\n",
    "                           femur,\n",
    "                           osim.Vec3(0, 0.2, 0))\n",
    "\n",
    "hamstrings.addNewPathPoint(\"insertion\",\n",
    "                           tibia,\n",
    "                           osim.Vec3(0, 1, 0))\n",
    "\n",
    "# ---------------------------------------------------------------------------\n",
    "# Add a controller that specifies the excitation of the muscles.\n",
    "# ---------------------------------------------------------------------------\n",
    "\n",
    "brain = osim.PrescribedController()\n",
    "brain.addActuator(quadriceps)\n",
    "brain.addActuator(hamstrings)\n",
    "brain.prescribeControlForActuator(\"quadriceps\",\n",
    "                                  osim.StepFunction(0.1, 0.2, 0.3, 0.3))\n",
    "brain.prescribeControlForActuator(\"hamstrings\",\n",
    "                                  osim.StepFunction(0.5, 1.0, 2.3, 3.0))\n",
    "\n"
   ]
  },
  {
   "cell_type": "markdown",
   "metadata": {},
   "source": [
    "## Add components to the model"
   ]
  },
  {
   "cell_type": "code",
   "execution_count": 34,
   "metadata": {},
   "outputs": [],
   "source": [
    "# ---------------------------------------------------------------------------\n",
    "# Build model with components created above.\n",
    "# ---------------------------------------------------------------------------\n",
    "\n",
    "leg.addBody(femur)\n",
    "leg.addBody(tibia)\n",
    "leg.addBody(foot)\n",
    "leg.addJoint(hip)\n",
    "leg.addJoint(knee)\n",
    "leg.addJoint(ankle)\n",
    "leg.addForce(quadriceps)\n",
    "leg.addForce(hamstrings)\n",
    "leg.addController(brain)\n",
    "\n",
    "# ---------------------------------------------------------------------------\n",
    "# Add a console reporter to print the muscle fibre force and knee angle.\n",
    "# ---------------------------------------------------------------------------\n",
    "\n",
    "# We want to write our simulation results to the console.\n",
    "reporter = osim.ConsoleReporter()\n",
    "reporter.set_report_time_interval(1.0)\n",
    "reporter.addToReport(quadriceps.getOutput(\"fiber_force\"))\n",
    "reporter.addToReport(hamstrings.getOutput(\"fiber_force\"))\n",
    "knee_coord = knee.getCoordinate().getOutput(\"value\")\n",
    "reporter.addToReport(knee_coord, \"knee_angle\")\n",
    "leg.addComponent(reporter)\n",
    "\n",
    "# ---------------------------------------------------------------------------\n",
    "# Add display geometry. \n",
    "# ---------------------------------------------------------------------------\n",
    "\n",
    "bodyGeometry = osim.Ellipsoid(0.1, 0.5, 0.1)\n",
    "bodyGeometry.setColor(osim.Gray)\n",
    "femurCenter = osim.PhysicalOffsetFrame()\n",
    "femurCenter.setName(\"femurCenter\")\n",
    "femurCenter.setParentFrame(femur)\n",
    "femurCenter.setOffsetTransform(osim.Transform(osim.Vec3(0, 0.5, 0)))\n",
    "femur.addComponent(femurCenter)\n",
    "femurCenter.attachGeometry(bodyGeometry.clone())\n",
    "\n",
    "tibiaCenter = osim.PhysicalOffsetFrame()\n",
    "tibiaCenter.setName(\"tibiaCenter\")\n",
    "tibiaCenter.setParentFrame(tibia)\n",
    "tibiaCenter.setOffsetTransform(osim.Transform(osim.Vec3(0, 0.5, 0)))\n",
    "tibia.addComponent(tibiaCenter)\n",
    "tibiaCenter.attachGeometry(bodyGeometry.clone())\n",
    "\n",
    "foot_vtp = r\"C:\\Users\\Bas\\Downloads\\Final 3D STL Models-stl\\Left\\VHM_Left_Bone_Phalanges_smooth.stl\"\n",
    "ankleBodyGeometry = osim.Mesh(foot_vtp)\n",
    "ankleCenter = osim.PhysicalOffsetFrame()\n",
    "ankleCenter.setName(\"ankleCenter\")\n",
    "ankleCenter.setParentFrame(foot)\n",
    "ankleCenter.setOffsetTransform(osim.Transform(osim.Vec3(0, 0.25, 0)))\n",
    "foot.addComponent(ankleCenter)\n",
    "ankleCenter.attachGeometry(bodyGeometry.clone())\n",
    "\n",
    "\n"
   ]
  },
  {
   "cell_type": "markdown",
   "metadata": {},
   "source": [
    "# Build knee model"
   ]
  },
  {
   "cell_type": "markdown",
   "metadata": {},
   "source": [
    "## Create bodies and joints"
   ]
  },
  {
   "cell_type": "code",
   "execution_count": 27,
   "metadata": {},
   "outputs": [],
   "source": [
    "\n",
    "# Define global model where the leg lives.\n",
    "leg = osim.Model()\n",
    "leg.setUseVisualizer(True)\n",
    "\n",
    "# ---------------------------------------------------------------------------\n",
    "# Create two links, each with a mass of 1 kg, centre of mass at the body's\n",
    "# origin, and moments and products of inertia of zero.\n",
    "# ---------------------------------------------------------------------------\n",
    "\n",
    "length_femur = 0.5\n",
    "length_tibia = 1\n",
    "length_foot = 0.5\n",
    "\n",
    "femur = osim.Body(\"femur\",\n",
    "                    length_femur,\n",
    "                    osim.Vec3(0, 0, 0),\n",
    "                    osim.Inertia(0, 0, 0))\n",
    "tibia = osim.Body(\"tibia\",\n",
    "                   length_tibia,\n",
    "                   osim.Vec3(0, 0, 0),\n",
    "                   osim.Inertia(0, 0, 0))\n",
    "\n",
    "foot = osim.Body(\"foot\",\n",
    "                    length_foot,\n",
    "                    osim.Vec3(0, 0, 0),\n",
    "                    osim.Inertia(0, 0, 0))\n",
    "\n",
    "\n",
    "# ---------------------------------------------------------------------------\n",
    "# Connect the bodies with pin joints. Assume each body is 1m long.\n",
    "# ---------------------------------------------------------------------------\n",
    "\n",
    "hip = osim.PinJoint(\"hip\",\n",
    "                    leg.getGround(),  # PhysicalFrame\n",
    "                    osim.Vec3(0, 0, 0),\n",
    "                    osim.Vec3(0, 0, 0),\n",
    "                    femur,  # PhysicalFrame\n",
    "                    osim.Vec3(0, length_femur, 0),\n",
    "                    osim.Vec3(0, 0, 0))\n",
    "\n",
    "knee = osim.PinJoint(\"knee\",\n",
    "                     femur,  # PhysicalFrame\n",
    "                     osim.Vec3(0, 0, 0),\n",
    "                     osim.Vec3(0, 0, 0),\n",
    "                     tibia,  # PhysicalFrame\n",
    "                     osim.Vec3(0, length_tibia, 0),\n",
    "                     osim.Vec3(0, 0, 0))\n",
    "\n",
    "ankle = osim.PinJoint(\"ankle\",\n",
    "                        tibia,  # PhysicalFrame\n",
    "                        osim.Vec3(0, 0, 0),\n",
    "                        osim.Vec3(0, 0, 0),\n",
    "                        foot,  # PhysicalFrame\n",
    "                        osim.Vec3(0, 0.5, 0),\n",
    "                        osim.Vec3(0, 0, 0))\n"
   ]
  },
  {
   "cell_type": "markdown",
   "metadata": {},
   "source": [
    "## Create muscles and controller (brain)"
   ]
  },
  {
   "cell_type": "code",
   "execution_count": 28,
   "metadata": {},
   "outputs": [],
   "source": [
    "\n",
    "# ---------------------------------------------------------------------------\n",
    "# Add a muscle that flexes the elbow (actuator for robotics people).\n",
    "# ---------------------------------------------------------------------------\n",
    "quadriceps = osim.Millard2012EquilibriumMuscle(\"quadriceps\",  # Muscle name\n",
    "                                               300.0,  # Max isometric force\n",
    "                                               0.6,  # Optimal fibre length\n",
    "                                               0.55,  # Tendon slack length\n",
    "                                               0.0)  # Pennation angle\n",
    "quadriceps.addNewPathPoint(\"origin\",\n",
    "                           femur,\n",
    "                           osim.Vec3(0, 0.8, 0))\n",
    "\n",
    "quadriceps.addNewPathPoint(\"insertion\",\n",
    "                           tibia,\n",
    "                           osim.Vec3(0, 0.7, 0))\n",
    "\n",
    "hamstrings = osim.Millard2012EquilibriumMuscle(\"hamstrings\",  # Muscle name\n",
    "                                               200.0,  # Max isometric force\n",
    "                                               0.6,  # Optimal fibre length\n",
    "                                               0.55,  # Tendon slack length\n",
    "                                               0.0)  # Pennation angle\n",
    "hamstrings.addNewPathPoint(\"origin\",\n",
    "                           femur,\n",
    "                           osim.Vec3(0, 0.2, 0))\n",
    "\n",
    "hamstrings.addNewPathPoint(\"insertion\",\n",
    "                           tibia,\n",
    "                           osim.Vec3(0, 1, 0))\n",
    "\n",
    "# ---------------------------------------------------------------------------\n",
    "# Add a controller that specifies the excitation of the muscles.\n",
    "# ---------------------------------------------------------------------------\n",
    "\n",
    "brain = osim.PrescribedController()\n",
    "brain.addActuator(quadriceps)\n",
    "brain.addActuator(hamstrings)\n",
    "brain.prescribeControlForActuator(\"quadriceps\",\n",
    "                                  osim.StepFunction(0.1, 0.2, 0.3, 0.3))\n",
    "brain.prescribeControlForActuator(\"hamstrings\",\n",
    "                                  osim.StepFunction(0.5, 1.0, 2.3, 3.0))\n",
    "\n"
   ]
  },
  {
   "cell_type": "markdown",
   "metadata": {},
   "source": [
    "## Add components to the model"
   ]
  },
  {
   "cell_type": "code",
   "execution_count": 29,
   "metadata": {},
   "outputs": [],
   "source": [
    "# ---------------------------------------------------------------------------\n",
    "# Build model with components created above.\n",
    "# ---------------------------------------------------------------------------\n",
    "\n",
    "leg.addBody(femur)\n",
    "leg.addBody(tibia)\n",
    "leg.addBody(foot)\n",
    "leg.addJoint(hip)\n",
    "leg.addJoint(knee)\n",
    "leg.addJoint(ankle)\n",
    "leg.addForce(quadriceps)\n",
    "leg.addForce(hamstrings)\n",
    "leg.addController(brain)\n",
    "\n",
    "# ---------------------------------------------------------------------------\n",
    "# Add a console reporter to print the muscle fibre force and knee angle.\n",
    "# ---------------------------------------------------------------------------\n",
    "\n",
    "# We want to write our simulation results to the console.\n",
    "reporter = osim.ConsoleReporter()\n",
    "reporter.set_report_time_interval(1.0)\n",
    "reporter.addToReport(quadriceps.getOutput(\"fiber_force\"))\n",
    "reporter.addToReport(hamstrings.getOutput(\"fiber_force\"))\n",
    "knee_coord = knee.getCoordinate().getOutput(\"value\")\n",
    "reporter.addToReport(knee_coord, \"knee_angle\")\n",
    "leg.addComponent(reporter)\n",
    "\n",
    "# ---------------------------------------------------------------------------\n",
    "# Add display geometry. \n",
    "# ---------------------------------------------------------------------------\n",
    "\n",
    "bodyGeometry = osim.Ellipsoid(0.1, 0.5, 0.1)\n",
    "bodyGeometry.setColor(osim.Gray)\n",
    "femurCenter = osim.PhysicalOffsetFrame()\n",
    "femurCenter.setName(\"femurCenter\")\n",
    "femurCenter.setParentFrame(femur)\n",
    "femurCenter.setOffsetTransform(osim.Transform(osim.Vec3(0, 0.5, 0)))\n",
    "femur.addComponent(femurCenter)\n",
    "femurCenter.attachGeometry(bodyGeometry.clone())\n",
    "\n",
    "tibiaCenter = osim.PhysicalOffsetFrame()\n",
    "tibiaCenter.setName(\"tibiaCenter\")\n",
    "tibiaCenter.setParentFrame(tibia)\n",
    "tibiaCenter.setOffsetTransform(osim.Transform(osim.Vec3(0, 0.5, 0)))\n",
    "tibia.addComponent(tibiaCenter)\n",
    "tibiaCenter.attachGeometry(bodyGeometry.clone())\n",
    "\n",
    "foot_vtp = r\"C:\\Users\\Bas\\Downloads\\Final 3D STL Models-stl\\Left\\VHM_Left_Bone_Phalanges_smooth.stl\"\n",
    "ankleBodyGeometry = osim.Mesh(foot_vtp)\n",
    "ankleCenter = osim.PhysicalOffsetFrame()\n",
    "ankleCenter.setName(\"ankleCenter\")\n",
    "ankleCenter.setParentFrame(foot)\n",
    "ankleCenter.setOffsetTransform(osim.Transform(osim.Vec3(0, 0.25, 0)))\n",
    "foot.addComponent(ankleCenter)\n",
    "ankleCenter.attachGeometry(bodyGeometry.clone())\n",
    "\n",
    "\n"
   ]
  },
  {
   "cell_type": "markdown",
   "metadata": {},
   "source": [
    "# Initiate the system and run the model simulation"
   ]
  },
  {
   "cell_type": "code",
   "execution_count": 35,
   "metadata": {},
   "outputs": [
    {
     "data": {
      "text/plain": [
       "True"
      ]
     },
     "execution_count": 35,
     "metadata": {},
     "output_type": "execute_result"
    }
   ],
   "source": [
    "# ---------------------------------------------------------------------------\n",
    "# Configure the model.\n",
    "# ---------------------------------------------------------------------------\n",
    "\n",
    "state = leg.initSystem()\n",
    "# Fix the hip at its default angle and begin with the knee flexed.\n",
    "hip.getCoordinate().setLocked(state, True)\n",
    "knee.getCoordinate().setValue(state, osim.SimTK_PI) # 180 degrees\n",
    "ankle.getCoordinate().setValue(state, 0.5) # 90 degrees\n",
    "leg.equilibrateMuscles(state)\n",
    "\n",
    "# ---------------------------------------------------------------------------\n",
    "# Simulate.\n",
    "# ---------------------------------------------------------------------------\n",
    "\n",
    "manager = osim.Manager(leg)\n",
    "state.setTime(0)\n",
    "manager.initialize(state)\n",
    "state = manager.integrate(10.0)\n",
    "\n",
    "# ---------------------------------------------------------------------------\n",
    "# Print/save model file\n",
    "# ---------------------------------------------------------------------------\n",
    "\n",
    "leg.printToXML(os.path.join(parent_dir, \"leg.osim\"))\n",
    "\n"
   ]
  },
  {
   "cell_type": "markdown",
   "metadata": {},
   "source": [
    "# End test"
   ]
  },
  {
   "cell_type": "code",
   "execution_count": 16,
   "metadata": {},
   "outputs": [
    {
     "name": "stdout",
     "output_type": "stream",
     "text": [
      "--- 3.2267627716064453 seconds ---\n"
     ]
    }
   ],
   "source": [
    "################\n",
    "print(f\"--- {time.time() - start_time} seconds ---\")"
   ]
  }
 ],
 "metadata": {
  "kernelspec": {
   "display_name": "msk_modelling",
   "language": "python",
   "name": "python3"
  },
  "language_info": {
   "codemirror_mode": {
    "name": "ipython",
    "version": 3
   },
   "file_extension": ".py",
   "mimetype": "text/x-python",
   "name": "python",
   "nbconvert_exporter": "python",
   "pygments_lexer": "ipython3",
   "version": "3.8.10"
  }
 },
 "nbformat": 4,
 "nbformat_minor": 2
}
